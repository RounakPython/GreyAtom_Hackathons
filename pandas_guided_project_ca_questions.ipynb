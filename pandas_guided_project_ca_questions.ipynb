{
  "nbformat": 4,
  "nbformat_minor": 0,
  "metadata": {
    "kernelspec": {
      "display_name": "Python 3",
      "language": "python",
      "name": "python3"
    },
    "language_info": {
      "codemirror_mode": {
        "name": "ipython",
        "version": 3
      },
      "file_extension": ".py",
      "mimetype": "text/x-python",
      "name": "python",
      "nbconvert_exporter": "python",
      "pygments_lexer": "ipython3",
      "version": "3.7.1"
    },
    "colab": {
      "name": "pandas_guided_project_ca_questions.ipynb",
      "provenance": [],
      "collapsed_sections": [],
      "include_colab_link": true
    }
  },
  "cells": [
    {
      "cell_type": "markdown",
      "metadata": {
        "id": "view-in-github",
        "colab_type": "text"
      },
      "source": [
        "<a href=\"https://colab.research.google.com/github/RounakPython/GreyAtom_Hackathons/blob/master/pandas_guided_project_ca_questions.ipynb\" target=\"_parent\"><img src=\"https://colab.research.google.com/assets/colab-badge.svg\" alt=\"Open In Colab\"/></a>"
      ]
    },
    {
      "cell_type": "markdown",
      "metadata": {
        "id": "tkYM_uT0egVA",
        "colab_type": "text"
      },
      "source": [
        "# Sales report using Pandas\n",
        "***\n",
        "## Problem Statement\n",
        "\n",
        "Hello budding Data Scientists. We have with us a bank data set which gives information about the revenue of various customers spread across different regions in USA.\n",
        "\n",
        "Using the knowledge of Pandas and Matplotlib, we will try to answer certain questions from the bank dataset  \n",
        "\n",
        "We will also then scrape certain additional data from Wikipedia, clean it and combine it with our bank data for better understandability of the data.      \n",
        "\n",
        "\n",
        "## About the Dataset\n",
        "\n",
        "Preview of the dataset \n",
        "\n",
        "![bank_dataset](../images/bank_data.png)\n",
        "\n",
        "The dataset has details of 15 customers with following 9 features.\n",
        "\n",
        "|Feature|Description|\n",
        "|-----|-----|\n",
        "|account|account Id|\n",
        "|name|name of the person|\n",
        "|street|Name of the street|\n",
        "|city|Name of the city|\n",
        "|state|Name of the state|\n",
        "|postal-code|numerical value|\n",
        "|Jan|Amount in doller|\n",
        "|Feb|Amount in doller|\n",
        "|Mar|Amount in doller|\n",
        "\n",
        "\n",
        "\n",
        "\n",
        "## Why solve this project\n",
        "\n",
        "Doing this project will enable you to integrate Multiple data sources to answer basic questions. You will also learn to perform common excel tasks with pandas\n",
        "\n",
        "What will you learn in the session ?\n",
        "Python Basics\n",
        "Pandas\n",
        "Web Scrapping\n",
        "Functions\n",
        "Plotting\n",
        "Pre-requisites\n",
        "Working knowledge of Pandas, Numpy, Matplotlib\n",
        "Data indexing and slicing"
      ]
    },
    {
      "cell_type": "markdown",
      "metadata": {
        "id": "80-Ln6SgegVC",
        "colab_type": "text"
      },
      "source": [
        "# Load Data and Compute total\n",
        "The first step - you know the drill by now - load the [dataset](https://github.com/commit-live-students/GLabs_DSMX/tree/master/Sprint%203%20Data%20Visualization%20and%20Guided%20Hackathon/3.2%20-%20Guided%20Hackathon/pandas_guided_project/data) and see how it looks like. Additionally, calculate the total amount in the first quarter of the financial year. Calculate the total amount of all the users for the month of jan, feb and Mar and also grand total. \n",
        "  \n",
        "\n",
        "## Instructions\n",
        "\n",
        "- Load dataset using pandas read_csv api in variable `df` and give file path of the dataset.\n",
        "- The names of the states `state` column are changed to lower case and store it in `df['state']`\n",
        "- Create a new column named `total` which computes the total amount in the first quarter\n",
        "  of the financial year i.e. for the months of Jan, Feb and Mar and store it in `df['total']`\n",
        "- Calculate the sum of amount of all users in the Month of Jan, Feb, March and store it in variable `sum_row` \n",
        " (Here the sum implies the sum of all the entries in the `Jan Column`, sum of entries in `Feb` Column and Grand total stands for the sum of entries in the column `total`)\n",
        "- Append this computed sum to the DataFrame `df_final` \n",
        "\n",
        "\n"
      ]
    },
    {
      "cell_type": "code",
      "metadata": {
        "id": "J3ktU7L2egVE",
        "colab_type": "code",
        "outputId": "1b9c6c5c-ec51-49dc-c8cd-773481aefbf6",
        "colab": {
          "base_uri": "https://localhost:8080/",
          "height": 153
        }
      },
      "source": [
        "import numpy as np\n",
        "import pandas as pd\n",
        "import matplotlib.pyplot as plt\n",
        "import seaborn as sns\n",
        "\n",
        "# Code starts here\n",
        "df = pd.read_csv('/content/drive/My Drive/Python/Data/pandas_guided_project/data/excel-comp-data.csv')\n",
        "print(df.head())\n",
        "\n",
        "df['state'] = df['state'].apply(lambda x:x.lower())\n",
        "df['total'] = df['Jan'] + df['Feb'] + df['Mar']\n",
        "\n",
        "sum_row = df[['Jan', 'Feb', 'Mar', 'total']].sum()\n",
        "df_final = df.append(sum_row, ignore_index=True)\n",
        "#Code ends here"
      ],
      "execution_count": 0,
      "outputs": [
        {
          "output_type": "stream",
          "text": [
            "   account                         name  ...     Feb    Mar\n",
            "0   211829   Kerluke, Koepp and Hilpert  ...   62000  35000\n",
            "1   320563               Walter-Trantow  ...   45000  35000\n",
            "2   648336   Bashirian, Kunde and Price  ...  120000  35000\n",
            "3   109996  D'Amore, Gleichner and Bode  ...  120000  10000\n",
            "4   121213                Bauch-Goldner  ...  120000  35000\n",
            "\n",
            "[5 rows x 9 columns]\n"
          ],
          "name": "stdout"
        }
      ]
    },
    {
      "cell_type": "code",
      "metadata": {
        "id": "rAororxXfCtn",
        "colab_type": "code",
        "outputId": "3a9ea593-2721-4de3-fadc-9852baac3d20",
        "colab": {
          "base_uri": "https://localhost:8080/",
          "height": 122
        }
      },
      "source": [
        "from google.colab import drive\n",
        "drive.mount('/content/drive')"
      ],
      "execution_count": 0,
      "outputs": [
        {
          "output_type": "stream",
          "text": [
            "Go to this URL in a browser: https://accounts.google.com/o/oauth2/auth?client_id=947318989803-6bn6qk8qdgf4n4g3pfee6491hc0brc4i.apps.googleusercontent.com&redirect_uri=urn%3aietf%3awg%3aoauth%3a2.0%3aoob&response_type=code&scope=email%20https%3a%2f%2fwww.googleapis.com%2fauth%2fdocs.test%20https%3a%2f%2fwww.googleapis.com%2fauth%2fdrive%20https%3a%2f%2fwww.googleapis.com%2fauth%2fdrive.photos.readonly%20https%3a%2f%2fwww.googleapis.com%2fauth%2fpeopleapi.readonly\n",
            "\n",
            "Enter your authorization code:\n",
            "··········\n",
            "Mounted at /content/drive\n"
          ],
          "name": "stdout"
        }
      ]
    },
    {
      "cell_type": "markdown",
      "metadata": {
        "id": "t43oD4hzegVM",
        "colab_type": "text"
      },
      "source": [
        "# Scrape Data From the web \n",
        "\n",
        "Here, you will be scraping data from the web and cleaning it. \n",
        " \n",
        "  \n",
        "## Instructions:\n",
        "\n",
        "- Scrapes the url `https://en.wikipedia.org/wiki/List_of_U.S._state_abbreviations` and store it in variable `url`\n",
        "- Use module `requests` to `get` the url and store it in variable called `response`\n",
        "- load the html file in dataframe `df1`. `Note`:use `pd.read_html(response.content)[0]`.   \n",
        "- First few rows consists of unclean data. You need to select rows from index 11 till end. Make the values at index 11 as column headers and store it in dataframe `df1`.\n",
        "- Remove space from the column named 'United States of America' and store the result in dataframe called `df1['United States of America']`\n",
        "\n"
      ]
    },
    {
      "cell_type": "code",
      "metadata": {
        "id": "8afpOxfKegVM",
        "colab_type": "code",
        "colab": {}
      },
      "source": [
        "import requests\n",
        "\n",
        "# Code starts here\n",
        "url = 'https://en.wikipedia.org/wiki/List_of_U.S._state_abbreviations'\n",
        "\n",
        "response = requests.get(url)\n",
        "df1 = pd.read_html(response.content)[0]\n",
        "\n",
        "df1 = df1.iloc[10:,:]\n",
        "df1 = df1.rename(columns=df1.iloc[0, :]).iloc[1:, :]\n",
        "#print(df1.dtypes)\n",
        "df1['United States of America'] = df1['United States of America'].apply(lambda x : x.replace(' ','')).astype(object)\n",
        "\n",
        "# Code ends here"
      ],
      "execution_count": 0,
      "outputs": []
    },
    {
      "cell_type": "markdown",
      "metadata": {
        "id": "TxKBGNDCegVQ",
        "colab_type": "text"
      },
      "source": [
        "# Mapping Countries to their abbreviations\n",
        "\n",
        "Using the data scraped from the previous task, map abbriviation to the name of states.\n",
        " \n",
        "  \n",
        "\n",
        "## Instructions:\n",
        " \n",
        "- Using the scraped data create a variable called `mapping` which has the Country\n",
        " as key and Abbreviation as value\n",
        "- Create a new column called `abbr` as the 7th column (index = 6) of the DataFrame `df_final`\n",
        "- map the `df_final['state']` on variable `mapping` and store it in `df_final['abbr']` \n",
        "\n"
      ]
    },
    {
      "cell_type": "code",
      "metadata": {
        "id": "lcJwjpXoegVR",
        "colab_type": "code",
        "outputId": "16cf604d-571d-412a-bf62-b764c427265b",
        "colab": {
          "base_uri": "https://localhost:8080/",
          "height": 374
        }
      },
      "source": [
        "# Code Starts here\n",
        "mapping = df1.set_index('United States of America')['US'].to_dict()\n",
        "df_final.insert(6, 'abbr', np.nan)\n",
        "df_final['abbr'] = df_final['state'].map(mapping)\n",
        "df_final.head()\n",
        "# Code ends here"
      ],
      "execution_count": 0,
      "outputs": [
        {
          "output_type": "execute_result",
          "data": {
            "text/html": [
              "<div>\n",
              "<style scoped>\n",
              "    .dataframe tbody tr th:only-of-type {\n",
              "        vertical-align: middle;\n",
              "    }\n",
              "\n",
              "    .dataframe tbody tr th {\n",
              "        vertical-align: top;\n",
              "    }\n",
              "\n",
              "    .dataframe thead th {\n",
              "        text-align: right;\n",
              "    }\n",
              "</style>\n",
              "<table border=\"1\" class=\"dataframe\">\n",
              "  <thead>\n",
              "    <tr style=\"text-align: right;\">\n",
              "      <th></th>\n",
              "      <th>account</th>\n",
              "      <th>name</th>\n",
              "      <th>street</th>\n",
              "      <th>city</th>\n",
              "      <th>state</th>\n",
              "      <th>postal-code</th>\n",
              "      <th>abbr</th>\n",
              "      <th>Jan</th>\n",
              "      <th>Feb</th>\n",
              "      <th>Mar</th>\n",
              "      <th>total</th>\n",
              "    </tr>\n",
              "  </thead>\n",
              "  <tbody>\n",
              "    <tr>\n",
              "      <th>0</th>\n",
              "      <td>211829.0</td>\n",
              "      <td>Kerluke, Koepp and Hilpert</td>\n",
              "      <td>34456 Sean Highway</td>\n",
              "      <td>New Jaycob</td>\n",
              "      <td>texas</td>\n",
              "      <td>28752.0</td>\n",
              "      <td>NaN</td>\n",
              "      <td>10000.0</td>\n",
              "      <td>62000.0</td>\n",
              "      <td>35000.0</td>\n",
              "      <td>107000.0</td>\n",
              "    </tr>\n",
              "    <tr>\n",
              "      <th>1</th>\n",
              "      <td>320563.0</td>\n",
              "      <td>Walter-Trantow</td>\n",
              "      <td>1311 Alvis Tunnel</td>\n",
              "      <td>Port Khadijah</td>\n",
              "      <td>northcarolina</td>\n",
              "      <td>38365.0</td>\n",
              "      <td>NaN</td>\n",
              "      <td>95000.0</td>\n",
              "      <td>45000.0</td>\n",
              "      <td>35000.0</td>\n",
              "      <td>175000.0</td>\n",
              "    </tr>\n",
              "    <tr>\n",
              "      <th>2</th>\n",
              "      <td>648336.0</td>\n",
              "      <td>Bashirian, Kunde and Price</td>\n",
              "      <td>62184 Schamberger Underpass Apt. 231</td>\n",
              "      <td>New Lilianland</td>\n",
              "      <td>iowa</td>\n",
              "      <td>76517.0</td>\n",
              "      <td>NaN</td>\n",
              "      <td>91000.0</td>\n",
              "      <td>120000.0</td>\n",
              "      <td>35000.0</td>\n",
              "      <td>246000.0</td>\n",
              "    </tr>\n",
              "    <tr>\n",
              "      <th>3</th>\n",
              "      <td>109996.0</td>\n",
              "      <td>D'Amore, Gleichner and Bode</td>\n",
              "      <td>155 Fadel Crescent Apt. 144</td>\n",
              "      <td>Hyattburgh</td>\n",
              "      <td>maine</td>\n",
              "      <td>46021.0</td>\n",
              "      <td>NaN</td>\n",
              "      <td>45000.0</td>\n",
              "      <td>120000.0</td>\n",
              "      <td>10000.0</td>\n",
              "      <td>175000.0</td>\n",
              "    </tr>\n",
              "    <tr>\n",
              "      <th>4</th>\n",
              "      <td>121213.0</td>\n",
              "      <td>Bauch-Goldner</td>\n",
              "      <td>7274 Marissa Common</td>\n",
              "      <td>Shanahanchester</td>\n",
              "      <td>california</td>\n",
              "      <td>49681.0</td>\n",
              "      <td>NaN</td>\n",
              "      <td>162000.0</td>\n",
              "      <td>120000.0</td>\n",
              "      <td>35000.0</td>\n",
              "      <td>317000.0</td>\n",
              "    </tr>\n",
              "  </tbody>\n",
              "</table>\n",
              "</div>"
            ],
            "text/plain": [
              "    account                         name  ...      Mar     total\n",
              "0  211829.0   Kerluke, Koepp and Hilpert  ...  35000.0  107000.0\n",
              "1  320563.0               Walter-Trantow  ...  35000.0  175000.0\n",
              "2  648336.0   Bashirian, Kunde and Price  ...  35000.0  246000.0\n",
              "3  109996.0  D'Amore, Gleichner and Bode  ...  10000.0  175000.0\n",
              "4  121213.0                Bauch-Goldner  ...  35000.0  317000.0\n",
              "\n",
              "[5 rows x 11 columns]"
            ]
          },
          "metadata": {
            "tags": []
          },
          "execution_count": 22
        }
      ]
    },
    {
      "cell_type": "markdown",
      "metadata": {
        "id": "QGH18v5AegVT",
        "colab_type": "text"
      },
      "source": [
        "# Filling in the Missing Values\n",
        "\n",
        "What you will notice in the previous task is that for two states Mississippi and Tennessee will have NaN values in column `abbr`. In this task you will be filling those missing values manually. \n",
        " \n",
        "  \n",
        "\n",
        "## Intructions :  \n",
        "- Locate the NaN in the abbr and replace `mississipi` with `MS` and store it in `df_mississipi`\n",
        "- Locate the NaN in the abbr and replace `tenessee` with `TN` and store it in `df_tenessee`\n",
        "- update the df_final\n",
        "\n"
      ]
    },
    {
      "cell_type": "code",
      "metadata": {
        "id": "vJ6rkG3legVU",
        "colab_type": "code",
        "colab": {}
      },
      "source": [
        "# Code starts here\n",
        "df_mississipi = df_final[df_final['state'] == 'mississipi'].replace(np.nan, 'MS')\n",
        "df_tenessee = df_final[df_final['state'] == 'tenessee'].replace(np.nan, 'TN')\n",
        "\n",
        "df_final.replace(df_final.iloc[6], df_mississipi, inplace=True)\n",
        "df_final.replace(df_final.iloc[10], df_tenessee, inplace=True)\n",
        "# Code ends here\n",
        "    "
      ],
      "execution_count": 0,
      "outputs": []
    },
    {
      "cell_type": "markdown",
      "metadata": {
        "id": "uPZulIy3egVX",
        "colab_type": "text"
      },
      "source": [
        "## Total amount bank hold  \n",
        "\n",
        "\n",
        "Here, use the newly created abbr column to understand the total amount that the bank holds in each state. Let us make this data frame more readable by introducing units in this case `$` sign representing the unit of mone\n",
        " \n",
        "  \n",
        "\n",
        "## Instructions :\n",
        "  \n",
        "- Groups by `abbr` and finds the sum of aabr,jan,feb ,mar and total store the result in `df_sub`\n",
        "- Write a `lambda function` to introduce `$` sign infromt of all the numbers using `applymap` and store the result in `formatted_df`\n",
        "\n",
        "\n"
      ]
    },
    {
      "cell_type": "code",
      "metadata": {
        "id": "I50gDdx_egVY",
        "colab_type": "code",
        "outputId": "44262ffb-d4be-4b3f-e365-5781e5deffd9",
        "colab": {
          "base_uri": "https://localhost:8080/",
          "height": 71
        }
      },
      "source": [
        "# Code starts here\n",
        "df_sub = df_final.groupby(['abbr'])['Jan', 'Feb', 'Mar', 'total'].sum()\n",
        "\n",
        "formatted_df = df_sub.applymap(lambda x:\"${:,.0f}\".format(x))\n",
        "\n",
        "# Code ends here\n",
        "\n",
        "\n"
      ],
      "execution_count": 0,
      "outputs": [
        {
          "output_type": "stream",
          "text": [
            "/usr/local/lib/python3.6/dist-packages/ipykernel_launcher.py:2: FutureWarning: Indexing with multiple keys (implicitly converted to a tuple of keys) will be deprecated, use a list instead.\n",
            "  \n"
          ],
          "name": "stderr"
        }
      ]
    },
    {
      "cell_type": "markdown",
      "metadata": {
        "id": "mJil8rLoegVd",
        "colab_type": "text"
      },
      "source": [
        "# Append a row to the DataFrame\n",
        "\n",
        "In this task, you will append a row to the data frame which will give us information about the total amount of the various regions in Jan, Feb and march and also the grand total\n",
        " \n",
        "## Instructions :\n",
        "\n",
        "- Computes the sum of amount of all users in the Month of Jan, Feb, March and the  total in variable called `sum_row` \n",
        " (Here the sum implies the sum of all the entries in the `Jan Column`, sum of entries in `Feb` Column and Grand total stands for the sum of entries in the column `total`)\n",
        "- Tranpose the dataframe `sum_row` and store it in new dataframe `df_sub_sum` \n",
        "- Make sure you append the `$` to all the digits and store it in dataframe `df_sub_sum` .\n",
        "- Append this computed sum to the DataFrame `final_table` \n",
        "- rename the index of `final_table` to  `{0: \"Total\"}` \n",
        "\n",
        "\n"
      ]
    },
    {
      "cell_type": "code",
      "metadata": {
        "id": "rJ6JUFjYegVd",
        "colab_type": "code",
        "outputId": "a267707e-acf8-417d-90cb-f283a1434b23",
        "colab": {
          "base_uri": "https://localhost:8080/",
          "height": 85
        }
      },
      "source": [
        "# Code starts here\n",
        "sum_row = df_sub[['Jan', 'Feb', 'Mar', 'total']].sum()\n",
        "df_sub_sum = pd.DataFrame(data=sum_row).T\n",
        "\n",
        "df_sub_sum = df_sub_sum.applymap(lambda x: \"${:,.0f}\".format(x))\n",
        "\n",
        "final_table = formatted_df.append(df_sub_sum)\n",
        "\n",
        "final_table = final_table.rename(index={0: 'Total'})\n",
        "print(final_table.head())\n",
        "\n",
        "# Code ends here"
      ],
      "execution_count": 0,
      "outputs": [
        {
          "output_type": "stream",
          "text": [
            "            Jan       Feb       Mar     total\n",
            "MS      $62,000  $120,000   $70,000  $252,000\n",
            "TN      $45,000  $120,000   $55,000  $220,000\n",
            "Total  $107,000  $240,000  $125,000  $472,000\n"
          ],
          "name": "stdout"
        }
      ]
    },
    {
      "cell_type": "markdown",
      "metadata": {
        "id": "tFLo6xBDegVg",
        "colab_type": "text"
      },
      "source": [
        "# Pie chart for total\n",
        "\n",
        "\n",
        "Having prepared all the data now its time to present the results visually\n",
        " \n",
        "## Instructions :\n",
        "- add the total of all the three months and store it in variable called `df_sub['total']`\n",
        "- plot the pie chart for the `df_sub['total']`\n",
        "\n",
        "\n"
      ]
    },
    {
      "cell_type": "code",
      "metadata": {
        "id": "Z5UtexqzegVh",
        "colab_type": "code",
        "outputId": "77f688b2-89ad-4f86-e550-bd00f861528a",
        "colab": {
          "base_uri": "https://localhost:8080/",
          "height": 248
        }
      },
      "source": [
        "# Code starts here\n",
        "df_sub['total'] = df_sub['Jan'] + df_sub['Feb'] + df_sub['Mar']\n",
        "\n",
        "df_sub['total'].plot(kind= 'pie')\n",
        "plt.show()\n",
        "# Code ends here"
      ],
      "execution_count": 0,
      "outputs": [
        {
          "output_type": "display_data",
          "data": {
            "image/png": "[encoded data removed]",
            "text/plain": [
              "<Figure size 432x288 with 1 Axes>"
            ]
          },
          "metadata": {
            "tags": []
          }
        }
      ]
    }
  ]
}