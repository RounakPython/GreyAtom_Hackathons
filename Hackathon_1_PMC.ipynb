{
  "nbformat": 4,
  "nbformat_minor": 0,
  "metadata": {
    "kernelspec": {
      "display_name": "Python 3",
      "language": "python",
      "name": "python3"
    },
    "language_info": {
      "codemirror_mode": {
        "name": "ipython",
        "version": 3
      },
      "file_extension": ".py",
      "mimetype": "text/x-python",
      "name": "python",
      "nbconvert_exporter": "python",
      "pygments_lexer": "ipython3",
      "version": "3.7.6"
    },
    "colab": {
      "name": "Hackathon_1_PMC.ipynb",
      "provenance": [],
      "include_colab_link": true
    }
  },
  "cells": [
    {
      "cell_type": "markdown",
      "metadata": {
        "id": "view-in-github",
        "colab_type": "text"
      },
      "source": [
        "<a href=\"https://colab.research.google.com/github/RounakPython/GreyAtom_Hackathons/blob/master/Hackathon_1_PMC.ipynb\" target=\"_parent\"><img src=\"https://colab.research.google.com/assets/colab-badge.svg\" alt=\"Open In Colab\"/></a>"
      ]
    },
    {
      "cell_type": "markdown",
      "metadata": {
        "id": "9-4UoAtuXQGq",
        "colab_type": "text"
      },
      "source": [
        "# Python Mini Challenges\n",
        "\n",
        "The most entertaining(and satisfying) way to improve your skills in a programming language is by doing challenges. Every challenge that is given in this assessment module can be solved by a bit of python programming and logical thinking.\n",
        "\n",
        "Some challenges may look easy,some may look tough but we hope you solve them all with the same vigour.\n",
        "\n",
        "All the best."
      ]
    },
    {
      "cell_type": "markdown",
      "metadata": {
        "id": "cQV1Et6cXQGr",
        "colab_type": "text"
      },
      "source": [
        "# Challenge 1: Smallest Palindrome\n",
        "\n",
        "\n",
        "Create a function called `palindrome(num)` that given a number `'num'`, finds the next smallest palindrome and returns it\n",
        "\n",
        "For eg:\n",
        "***\n",
        "**Input**\n",
        "\n",
        "```python\n",
        "palindrome(123)\n",
        "```\n",
        "\n",
        "**Output**\n",
        "```python\n",
        "131\n",
        "```\n",
        "***\n",
        "**Input**\n",
        "\n",
        "```python\n",
        "palindrome(1331)\n",
        "```\n",
        "\n",
        "**Output**\n",
        "```python\n",
        "1441\n",
        "```\n"
      ]
    },
    {
      "cell_type": "code",
      "metadata": {
        "id": "286pMxzuXQGs",
        "colab_type": "code",
        "colab": {},
        "outputId": "b94f2b5e-b418-4283-87c4-f2ecddd3f4c9"
      },
      "source": [
        "#Code starts here\n",
        "import sys\n",
        "\n",
        "def rev_num(n):\n",
        "        rev=0\n",
        "        while(n>0):\n",
        "            rem=n%10\n",
        "            rev=(rev*10)+rem\n",
        "            n=n//10\n",
        "        return rev\n",
        "\n",
        "def palindrome(num):\n",
        "    for i in range(num+1, sys.maxsize):\n",
        "        if(i == rev_num(i)):\n",
        "            return i\n",
        "\n",
        "palindrome(1331)    \n",
        "\n",
        "#Code ends here        "
      ],
      "execution_count": 0,
      "outputs": [
        {
          "output_type": "execute_result",
          "data": {
            "text/plain": [
              "1441"
            ]
          },
          "metadata": {
            "tags": []
          },
          "execution_count": 61
        }
      ]
    },
    {
      "cell_type": "markdown",
      "metadata": {
        "id": "eJto5UbEXQGw",
        "colab_type": "text"
      },
      "source": [
        "# Challenge 2: Anagram Scramble\n",
        "\n",
        "Create a function called `'a_scramble(str_1, str_2)'` that given the strings`'str_1'`,`'str_2'` returns `True` if a portion of `'str_1'` characters can be scrambled to match `'str2'`, else return `False`\n",
        "\n",
        "For eg:\n",
        "***\n",
        "**Input**\n",
        "\n",
        "```python\n",
        "a_scramble(\"Tom Marvolo Riddle\",\"Voldemort\")\n",
        "```\n",
        "\n",
        "**Output**\n",
        "```python\n",
        "True\n",
        "```\n",
        "***\n",
        "**Input**\n",
        "\n",
        "```python\n",
        "a_scramble(\"ticket\",\"chat\")\n",
        "```\n",
        "\n",
        "**Output**\n",
        "```python\n",
        "False\n",
        "```\n"
      ]
    },
    {
      "cell_type": "code",
      "metadata": {
        "id": "C84jUb_bXQGw",
        "colab_type": "code",
        "colab": {},
        "outputId": "88f04361-4eaf-46a8-ba19-a42ec61c2709"
      },
      "source": [
        "#Code starts here\n",
        "import numpy as np\n",
        "\n",
        "def convert_touniquelist(string):\n",
        "    list_0=[]\n",
        "    for i in string:\n",
        "        list_0.append(i)\n",
        "    arr=np.array(list_0)\n",
        "    return list(arr)\n",
        "\n",
        "def a_scramble(string1, string2):\n",
        "    x = convert_touniquelist(string1.lower())\n",
        "    y = convert_touniquelist(string2.lower())\n",
        "    flag = False\n",
        "    for i in y:\n",
        "        if i not in x:\n",
        "            return False\n",
        "        else:\n",
        "            x.remove(i)\n",
        "            flag = True\n",
        "    return flag\n",
        "    \n",
        "a_scramble(\"ticket\",\"chat\")\n",
        "\n",
        "#Code ends here"
      ],
      "execution_count": 0,
      "outputs": [
        {
          "output_type": "execute_result",
          "data": {
            "text/plain": [
              "False"
            ]
          },
          "metadata": {
            "tags": []
          },
          "execution_count": 83
        }
      ]
    },
    {
      "cell_type": "markdown",
      "metadata": {
        "id": "qAH1vwbbXQGy",
        "colab_type": "text"
      },
      "source": [
        "# Challenge 3: Fibonacci Check\n",
        "\n",
        "Create a function called `check_fib(num)` that checks if the given number `'num'` is part of the [fibonacci sequence](https://en.wikipedia.org/wiki/Fibonacci_number) and returns `True` if it is, else `False`\n",
        "\n",
        "For eg:\n",
        "***\n",
        "**Input**\n",
        "\n",
        "```python\n",
        "check_fib(145)\n",
        "```\n",
        "\n",
        "**Output**\n",
        "```python\n",
        "False\n",
        "```\n",
        "***\n",
        "**Input**\n",
        "\n",
        "```python\n",
        "check_fib(377)\n",
        "```\n",
        "\n",
        "**Output**\n",
        "```python\n",
        "True\n",
        "```\n",
        "\n",
        "\n"
      ]
    },
    {
      "cell_type": "code",
      "metadata": {
        "id": "OxEDWRVHXQGz",
        "colab_type": "code",
        "colab": {},
        "outputId": "0168c9b0-3a6f-4295-a3d6-7ceaa80aa375"
      },
      "source": [
        "#Importing header files\n",
        "from math import sqrt\n",
        "\n",
        "#Code starts here\n",
        "def isPerfectSquare(x): \n",
        "    s = int(sqrt(x)) \n",
        "    return s*s == x\n",
        "\n",
        "def check_fib(n): \n",
        "    return isPerfectSquare(5*n*n + 4) or isPerfectSquare(5*n*n - 4)\n",
        "\n",
        "check_fib(377)\n",
        "\n",
        "#Code ends here"
      ],
      "execution_count": 0,
      "outputs": [
        {
          "output_type": "execute_result",
          "data": {
            "text/plain": [
              "True"
            ]
          },
          "metadata": {
            "tags": []
          },
          "execution_count": 58
        }
      ]
    },
    {
      "cell_type": "markdown",
      "metadata": {
        "id": "p-CR1Y6pXQG2",
        "colab_type": "text"
      },
      "source": [
        "# Challenge 4: String Compression\n",
        "\n",
        "Write a function `compress(word)` that given a word `word` returns the string with it's letters and how many times they occur continously together.\n",
        "\n",
        "For eg:\n",
        "\n",
        "***\n",
        "**Input**\n",
        "\n",
        "```python\n",
        "a_scramble(\"abbs\")\n",
        "```\n",
        "\n",
        "**Output**\n",
        "```python\n",
        "\"a1b2s1\"\n",
        "```\n",
        "Explanation: 1 occurence of `a`, followed by 2 occurences of `b`, followed by 1 occurence of `s`\n",
        "***\n",
        "**Input**\n",
        "\n",
        "```python\n",
        "compress(\"xxcccdex\")\n",
        "```\n",
        "\n",
        "**Output**\n",
        "```python\n",
        "\"x2c3d1e1x1\"\n",
        "```\n",
        "\n",
        "Explanation: 2 occurences of `x`, followed by 3 occurences of `c`, followed by 1 occurence of `d`, followed by 1 occurence of `e`, followed by 1 occurence of `x`"
      ]
    },
    {
      "cell_type": "code",
      "metadata": {
        "scrolled": true,
        "id": "f7__IL3NXQG3",
        "colab_type": "code",
        "colab": {},
        "outputId": "b5241a52-11be-4b7d-8636-d96468470857"
      },
      "source": [
        "#Code starts here\n",
        "def compress(string):\n",
        "    list_1=[]\n",
        "    n=''\n",
        "    #output=''\n",
        "    c=0\n",
        "    for i in string.lower():     \n",
        "        if(i==n):\n",
        "            c+=1\n",
        "            list_1[-1]=c\n",
        "        else:\n",
        "            n=i\n",
        "            c=1\n",
        "            list_1.append(i)\n",
        "            list_1.append(c)\n",
        "    for j in list_1:\n",
        "        output += str(j)\n",
        "    print(output)\n",
        "\n",
        "compress('xxfvxcchserr')\n",
        "#Code ends here"
      ],
      "execution_count": 0,
      "outputs": [
        {
          "output_type": "stream",
          "text": [
            "x2f1v1x1c2h1s1e1r2"
          ],
          "name": "stdout"
        }
      ]
    },
    {
      "cell_type": "markdown",
      "metadata": {
        "id": "AfdNX_YRXQG5",
        "colab_type": "text"
      },
      "source": [
        "# Challenge 5: K-Distinct\n",
        "\n",
        "Write a function `k_distinct(string,k)` that given a string `'string'` and number `'k'`, it checks whether the `'string'` has `'k'` distinct characters\n",
        "\n",
        "For eg:\n",
        "***\n",
        "**Input**\n",
        "\n",
        "```python\n",
        "k_distinct('Messoptamia',8)\n",
        "```\n",
        "\n",
        "**Output**\n",
        "```python\n",
        "True\n",
        "```\n",
        "***\n",
        "**Input**\n",
        "\n",
        "```python\n",
        "k_distinct('banana',4)\n",
        "```\n",
        "\n",
        "**Output**\n",
        "```python\n",
        "False\n",
        "```\n"
      ]
    },
    {
      "cell_type": "code",
      "metadata": {
        "id": "2drVoE6FXQG6",
        "colab_type": "code",
        "colab": {},
        "outputId": "ddabe34a-d586-48fb-8fde-785bf1ea7833"
      },
      "source": [
        "#Code starts here\n",
        "import numpy as np\n",
        "\n",
        "def k_distinct(string,k):\n",
        "    ls=[]\n",
        "    string=(string.lower())\n",
        "    for i in string:\n",
        "        ls.append(i)\n",
        "    x = np.array(ls)\n",
        "    #print(np.unique(x))\n",
        "    if len(np.unique(x))==k:\n",
        "        return True\n",
        "    else:\n",
        "        return False\n",
        "\n",
        "k_distinct('Messoptamia',8)\n",
        "\n",
        "#Code ends here"
      ],
      "execution_count": 0,
      "outputs": [
        {
          "output_type": "execute_result",
          "data": {
            "text/plain": [
              "True"
            ]
          },
          "metadata": {
            "tags": []
          },
          "execution_count": 60
        }
      ]
    }
  ]
}
